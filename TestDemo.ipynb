{
 "cells": [
  {
   "cell_type": "markdown",
   "metadata": {},
   "source": [
    "Import libraries"
   ]
  },
  {
   "cell_type": "code",
   "execution_count": 1,
   "metadata": {
    "pycharm": {
     "is_executing": false,
     "name": "#%% \n"
    }
   },
   "outputs": [],
   "source": [
    "from keras.utils import to_categorical\n",
    "from keras.models import load_model\n",
    "from sklearn.model_selection import StratifiedKFold\n",
    "import numpy as np\n",
    "import pandas as pd\n",
    "from sklearn.metrics import precision_recall_fscore_support, accuracy_score, cohen_kappa_score, confusion_matrix\n",
    "from utils import load_data, AA_andEachClassAccuracy\n",
    "import keras.backend as k\n",
    "import tensorflow as tf\n",
    "\n",
    "k.set_image_data_format('channels_last')"
   ]
  },
  {
   "cell_type": "markdown",
   "metadata": {},
   "source": [
    "Load Dataset"
   ]
  },
  {
   "cell_type": "code",
   "execution_count": 2,
   "metadata": {
    "pycharm": {
     "is_executing": false,
     "name": "#%%\n"
    }
   },
   "outputs": [
    {
     "name": "stdout",
     "text": [
      "Dataset correctly imported\n"
     ],
     "output_type": "stream"
    }
   ],
   "source": [
    "# Select dataset. Options are 'Kochia', 'IP', 'PU', 'SA', or 'EUROSAT'\n",
    "dataset = 'IP'\n",
    "train_x, train_y = load_data(dataset=dataset, test=True)\n",
    "if dataset == 'Kochia':\n",
    "    classes = 3\n",
    "elif dataset == 'EUROSAT':\n",
    "    classes = 10\n",
    "else:\n",
    "    classes = int(np.max(train_y)) + 1\n",
    "print(\"Dataset correctly imported\")"
   ]
  },
  {
   "cell_type": "markdown",
   "metadata": {},
   "source": [
    "PREDICT AND CALCULATE METRICS"
   ]
  },
  {
   "cell_type": "code",
   "execution_count": 3,
   "metadata": {
    "pycharm": {
     "is_executing": false,
     "name": "#%%\n"
    }
   },
   "outputs": [
    {
     "name": "stdout",
     "text": [
      "Overall accuracy: 99.942% (+/- 0.064%)\n",
      "Average accuracy: 99.901% (+/- 0.181%)\n",
      "Kappa accuracy: 99.933% (+/- 0.073%)\n",
      "Precision accuracy: 99.840% (+/- 0.239%)\n"
     ],
     "output_type": "stream"
    }
   ],
   "source": [
    "windowSize = train_x.shape[1]\n",
    "kfold = StratifiedKFold(n_splits=10, shuffle=True, random_state=7)\n",
    "cvoa = []\n",
    "cvaa = []\n",
    "cvka = []\n",
    "cvpre = []\n",
    "cvrec = []\n",
    "cvf1 = []\n",
    "\n",
    "# Select Network. Options are 'hyper3dnet', 'hybridsn', 'spectrum',\n",
    "# 'resnet50' (expect for Kochia), or 'kochiafc' (only for Kochia)\n",
    "network = 'hyper3dnet'\n",
    "\n",
    "# Initialize\n",
    "confmatrices = np.zeros((10, int(classes), int(classes)))\n",
    "\n",
    "ntrain = 1\n",
    "model = None\n",
    "for train, test in kfold.split(train_x, train_y):\n",
    "\n",
    "    k.clear_session()\n",
    "\n",
    "    ytest = to_categorical(train_y[test], num_classes=classes).astype(np.int32)\n",
    "\n",
    "    # Load network and weights of the 'ntrain'-fold\n",
    "    model = load_model(\"weights/\" + dataset + \"/\" + network + \"/weights-\" + network + dataset + str(ntrain) + \".h5\")\n",
    "    model.trainable = False\n",
    "\n",
    "    # Predict results\n",
    "    ypred = model.predict(train_x[test])\n",
    "\n",
    "    # Calculate confusion matrix\n",
    "    sess = tf.compat.v1.Session()\n",
    "    with sess.as_default():\n",
    "        con_mat = tf.math.confusion_matrix(labels=np.argmax(ytest, axis=-1),\n",
    "                                           predictions=np.argmax(ypred, axis=-1)).numpy()\n",
    "    con_mat_norm = np.around(con_mat.astype('float') / con_mat.sum(axis=1)[:, np.newaxis], decimals=3)\n",
    "    classes_list = list(range(0, int(classes)))\n",
    "    con_mat_df = pd.DataFrame(con_mat_norm, index=classes_list, columns=classes_list)\n",
    "    confmatrices[ntrain - 1, :, :] = con_mat_df.values\n",
    "\n",
    "    # Calculate metrics\n",
    "    oa = accuracy_score(np.argmax(ytest, axis=1), np.argmax(ypred, axis=-1))\n",
    "    confusion = confusion_matrix(np.argmax(ytest, axis=1), np.argmax(ypred, axis=-1))\n",
    "    each_acc, aa = AA_andEachClassAccuracy(confusion)\n",
    "    kappa = cohen_kappa_score(np.argmax(ytest, axis=1), np.argmax(ypred, axis=-1))\n",
    "    prec, rec, f1, support = precision_recall_fscore_support(np.argmax(ytest, axis=1), np.argmax(ypred, axis=-1),\n",
    "                                                             average='macro')\n",
    "\n",
    "    # Add metrics to the list\n",
    "    cvoa.append(oa * 100)\n",
    "    cvaa.append(aa * 100)\n",
    "    cvka.append(kappa * 100)\n",
    "    cvpre.append(prec * 100)\n",
    "    cvrec.append(rec * 100)\n",
    "    cvf1.append(f1 * 100)\n",
    "\n",
    "    ntrain = ntrain + 1\n",
    "\n",
    "\n",
    "print(\"Overall accuracy: %.3f%% (+/- %.3f%%)\" % (float(np.mean(cvoa)), float(np.std(cvoa))))\n",
    "print(\"Average accuracy: %.3f%% (+/- %.3f%%)\" % (float(np.mean(cvaa)), float(np.std(cvaa))))\n",
    "print(\"Kappa accuracy: %.3f%% (+/- %.3f%%)\" % (float(np.mean(cvka)), float(np.std(cvka))))\n",
    "print(\"Precision accuracy: %.3f%% (+/- %.3f%%)\" % (float(np.mean(cvpre)), float(np.std(cvpre))))"
   ]
  },
  {
   "cell_type": "markdown",
   "source": [
    "Network Architecture"
   ],
   "metadata": {
    "collapsed": false
   }
  },
  {
   "cell_type": "code",
   "execution_count": 4,
   "outputs": [
    {
     "name": "stdout",
     "text": [
      "Model: \"model_11\"\n",
      "__________________________________________________________________________________________________\n",
      "Layer (type)                    Output Shape         Param #     Connected to                     \n",
      "==================================================================================================\n",
      "input_11 (InputLayer)           [(None, 25, 25, 30,  0                                            \n",
      "__________________________________________________________________________________________________\n",
      "conv3d_41 (Conv3D)              (None, 25, 25, 30, 8 512         input_11[0][0]                   \n",
      "__________________________________________________________________________________________________\n",
      "batch_normalization_81 (BatchNo (None, 25, 25, 30, 8 32          conv3d_41[0][0]                  \n",
      "__________________________________________________________________________________________________\n",
      "activation_81 (Activation)      (None, 25, 25, 30, 8 0           batch_normalization_81[0][0]     \n",
      "__________________________________________________________________________________________________\n",
      "conv3d_42 (Conv3D)              (None, 25, 25, 30, 8 4040        activation_81[0][0]              \n",
      "__________________________________________________________________________________________________\n",
      "batch_normalization_82 (BatchNo (None, 25, 25, 30, 8 32          conv3d_42[0][0]                  \n",
      "__________________________________________________________________________________________________\n",
      "activation_82 (Activation)      (None, 25, 25, 30, 8 0           batch_normalization_82[0][0]     \n",
      "__________________________________________________________________________________________________\n",
      "concatenate_31 (Concatenate)    (None, 25, 25, 30, 1 0           activation_81[0][0]              \n",
      "                                                                 activation_82[0][0]              \n",
      "__________________________________________________________________________________________________\n",
      "conv3d_43 (Conv3D)              (None, 25, 25, 30, 8 8072        concatenate_31[0][0]             \n",
      "__________________________________________________________________________________________________\n",
      "batch_normalization_83 (BatchNo (None, 25, 25, 30, 8 32          conv3d_43[0][0]                  \n",
      "__________________________________________________________________________________________________\n",
      "activation_83 (Activation)      (None, 25, 25, 30, 8 0           batch_normalization_83[0][0]     \n",
      "__________________________________________________________________________________________________\n",
      "concatenate_32 (Concatenate)    (None, 25, 25, 30, 2 0           concatenate_31[0][0]             \n",
      "                                                                 activation_83[0][0]              \n",
      "__________________________________________________________________________________________________\n",
      "conv3d_44 (Conv3D)              (None, 25, 25, 30, 8 12104       concatenate_32[0][0]             \n",
      "__________________________________________________________________________________________________\n",
      "batch_normalization_84 (BatchNo (None, 25, 25, 30, 8 32          conv3d_44[0][0]                  \n",
      "__________________________________________________________________________________________________\n",
      "activation_84 (Activation)      (None, 25, 25, 30, 8 0           batch_normalization_84[0][0]     \n",
      "__________________________________________________________________________________________________\n",
      "concatenate_33 (Concatenate)    (None, 25, 25, 30, 3 0           concatenate_32[0][0]             \n",
      "                                                                 activation_84[0][0]              \n",
      "__________________________________________________________________________________________________\n",
      "reshape_11 (Reshape)            (None, 25, 25, 960)  0           concatenate_33[0][0]             \n",
      "__________________________________________________________________________________________________\n",
      "separable_conv2d_41 (SeparableC (None, 25, 25, 128)  131648      reshape_11[0][0]                 \n",
      "__________________________________________________________________________________________________\n",
      "batch_normalization_85 (BatchNo (None, 25, 25, 128)  512         separable_conv2d_41[0][0]        \n",
      "__________________________________________________________________________________________________\n",
      "activation_85 (Activation)      (None, 25, 25, 128)  0           batch_normalization_85[0][0]     \n",
      "__________________________________________________________________________________________________\n",
      "separable_conv2d_42 (SeparableC (None, 13, 13, 128)  17664       activation_85[0][0]              \n",
      "__________________________________________________________________________________________________\n",
      "batch_normalization_86 (BatchNo (None, 13, 13, 128)  512         separable_conv2d_42[0][0]        \n",
      "__________________________________________________________________________________________________\n",
      "activation_86 (Activation)      (None, 13, 13, 128)  0           batch_normalization_86[0][0]     \n",
      "__________________________________________________________________________________________________\n",
      "separable_conv2d_43 (SeparableC (None, 7, 7, 128)    17664       activation_86[0][0]              \n",
      "__________________________________________________________________________________________________\n",
      "batch_normalization_87 (BatchNo (None, 7, 7, 128)    512         separable_conv2d_43[0][0]        \n",
      "__________________________________________________________________________________________________\n",
      "activation_87 (Activation)      (None, 7, 7, 128)    0           batch_normalization_87[0][0]     \n",
      "__________________________________________________________________________________________________\n",
      "separable_conv2d_44 (SeparableC (None, 4, 4, 128)    17664       activation_87[0][0]              \n",
      "__________________________________________________________________________________________________\n",
      "batch_normalization_88 (BatchNo (None, 4, 4, 128)    512         separable_conv2d_44[0][0]        \n",
      "__________________________________________________________________________________________________\n",
      "activation_88 (Activation)      (None, 4, 4, 128)    0           batch_normalization_88[0][0]     \n",
      "__________________________________________________________________________________________________\n",
      "flatten_11 (Flatten)            (None, 2048)         0           activation_88[0][0]              \n",
      "__________________________________________________________________________________________________\n",
      "dropout_11 (Dropout)            (None, 2048)         0           flatten_11[0][0]                 \n",
      "__________________________________________________________________________________________________\n",
      "fc16 (Dense)                    (None, 16)           32784       dropout_11[0][0]                 \n",
      "==================================================================================================\n",
      "Total params: 244,328\n",
      "Trainable params: 0\n",
      "Non-trainable params: 244,328\n",
      "__________________________________________________________________________________________________\n"
     ],
     "output_type": "stream"
    }
   ],
   "source": [
    "model.summary()"
   ],
   "metadata": {
    "collapsed": false,
    "pycharm": {
     "name": "#%%\n",
     "is_executing": false
    }
   }
  }
 ],
 "metadata": {
  "kernelspec": {
   "display_name": "Python 3",
   "language": "python",
   "name": "python3"
  },
  "language_info": {
   "codemirror_mode": {
    "name": "ipython",
    "version": 3
   },
   "file_extension": ".py",
   "mimetype": "text/x-python",
   "name": "python",
   "nbconvert_exporter": "python",
   "pygments_lexer": "ipython3",
   "version": "3.6.8"
  },
  "pycharm": {
   "stem_cell": {
    "cell_type": "raw",
    "source": [],
    "metadata": {
     "collapsed": false
    }
   }
  }
 },
 "nbformat": 4,
 "nbformat_minor": 1
}